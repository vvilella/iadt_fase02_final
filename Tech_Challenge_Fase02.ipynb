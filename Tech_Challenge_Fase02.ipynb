{
 "cells": [
  {
   "cell_type": "markdown",
   "id": "5bb534fe",
   "metadata": {},
   "source": [
    "# Otimização de Portfólio de Ações com Algoritmos Genéticos\n",
    "\n",
    "O problema que vamos resolver é a **otimização de portfólio de ações**, onde o objetivo é distribuir um **capital limitado** entre várias **ações** de modo a **maximizar o retorno esperado** e **minimizar o risco**.\n",
    "\n",
    "O algoritmo genético será utilizado para:\n",
    "1. **Seleção** das melhores ações para o portfólio.\n",
    "2. **Cruzamento** de diferentes alocações de ações para explorar novas combinações.\n",
    "3. **Mutação** para introduzir variação e evitar a convergência prematura.\n",
    "4. **Avaliação** com base no **índice de Sharpe**, que é uma métrica que balanceia **risco** e **retorno**.\n",
    "\n",
    "A **função de fitness** será baseada no **índice de Sharpe**, que é calculado da seguinte forma:\n",
    "\n",
    "A fórmula do índice de Sharpe é:\n",
    "\n",
    "**Sharpe Ratio = (Retorno do Portfólio - Taxa Livre de Risco) / Desvio Padrão do Portfólio**\n",
    "\n",
    "Onde:\n",
    "- **Retorno do Portfólio** é a soma ponderada dos retornos diários das ações no portfólio.\n",
    "- **Desvio Padrão do Portfólio** é o desvio padrão ponderado dos retornos diários das ações no portfólio.\n",
    "- **Taxa Livre de Risco** é uma taxa de retorno considerada segura, como o rendimento de títulos do governo. Vamos assumir que a taxa livre de risco é **0** para simplificação.\n",
    "\n",
    "Nosso objetivo será maximizar esse valor, buscando um **portfólio de ações** com o melhor equilíbrio entre **risco** e **retorno**.\n",
    "\n",
    "Vamos agora passar para a criação dos dados iniciais e a definição da função de fitness.\n"
   ]
  },
  {
   "cell_type": "code",
   "execution_count": 40,
   "id": "99cd67d4",
   "metadata": {},
   "outputs": [
    {
     "name": "stderr",
     "output_type": "stream",
     "text": [
      "[*********************100%***********************]  5 of 5 completed\n"
     ]
    },
    {
     "data": {
      "text/html": [
       "<div>\n",
       "<style scoped>\n",
       "    .dataframe tbody tr th:only-of-type {\n",
       "        vertical-align: middle;\n",
       "    }\n",
       "\n",
       "    .dataframe tbody tr th {\n",
       "        vertical-align: top;\n",
       "    }\n",
       "\n",
       "    .dataframe thead tr th {\n",
       "        text-align: left;\n",
       "    }\n",
       "\n",
       "    .dataframe thead tr:last-of-type th {\n",
       "        text-align: right;\n",
       "    }\n",
       "</style>\n",
       "<table border=\"1\" class=\"dataframe\">\n",
       "  <thead>\n",
       "    <tr>\n",
       "      <th>Price</th>\n",
       "      <th colspan=\"5\" halign=\"left\">Close</th>\n",
       "      <th colspan=\"5\" halign=\"left\">High</th>\n",
       "      <th>...</th>\n",
       "      <th colspan=\"5\" halign=\"left\">Open</th>\n",
       "      <th colspan=\"5\" halign=\"left\">Volume</th>\n",
       "    </tr>\n",
       "    <tr>\n",
       "      <th>Ticker</th>\n",
       "      <th>AAPL</th>\n",
       "      <th>AMZN</th>\n",
       "      <th>GOOGL</th>\n",
       "      <th>MSFT</th>\n",
       "      <th>TSLA</th>\n",
       "      <th>AAPL</th>\n",
       "      <th>AMZN</th>\n",
       "      <th>GOOGL</th>\n",
       "      <th>MSFT</th>\n",
       "      <th>TSLA</th>\n",
       "      <th>...</th>\n",
       "      <th>AAPL</th>\n",
       "      <th>AMZN</th>\n",
       "      <th>GOOGL</th>\n",
       "      <th>MSFT</th>\n",
       "      <th>TSLA</th>\n",
       "      <th>AAPL</th>\n",
       "      <th>AMZN</th>\n",
       "      <th>GOOGL</th>\n",
       "      <th>MSFT</th>\n",
       "      <th>TSLA</th>\n",
       "    </tr>\n",
       "    <tr>\n",
       "      <th>Date</th>\n",
       "      <th></th>\n",
       "      <th></th>\n",
       "      <th></th>\n",
       "      <th></th>\n",
       "      <th></th>\n",
       "      <th></th>\n",
       "      <th></th>\n",
       "      <th></th>\n",
       "      <th></th>\n",
       "      <th></th>\n",
       "      <th></th>\n",
       "      <th></th>\n",
       "      <th></th>\n",
       "      <th></th>\n",
       "      <th></th>\n",
       "      <th></th>\n",
       "      <th></th>\n",
       "      <th></th>\n",
       "      <th></th>\n",
       "      <th></th>\n",
       "      <th></th>\n",
       "    </tr>\n",
       "  </thead>\n",
       "  <tbody>\n",
       "    <tr>\n",
       "      <th>2018-01-02</th>\n",
       "      <td>40.426826</td>\n",
       "      <td>59.450500</td>\n",
       "      <td>53.340599</td>\n",
       "      <td>79.328514</td>\n",
       "      <td>21.368668</td>\n",
       "      <td>40.436216</td>\n",
       "      <td>59.500000</td>\n",
       "      <td>53.478274</td>\n",
       "      <td>79.660781</td>\n",
       "      <td>21.474001</td>\n",
       "      <td>...</td>\n",
       "      <td>39.933990</td>\n",
       "      <td>58.599998</td>\n",
       "      <td>52.337119</td>\n",
       "      <td>79.494647</td>\n",
       "      <td>20.799999</td>\n",
       "      <td>102223600</td>\n",
       "      <td>53890000</td>\n",
       "      <td>31766000</td>\n",
       "      <td>22483800</td>\n",
       "      <td>65283000</td>\n",
       "    </tr>\n",
       "    <tr>\n",
       "      <th>2018-01-03</th>\n",
       "      <td>40.419773</td>\n",
       "      <td>60.209999</td>\n",
       "      <td>54.250641</td>\n",
       "      <td>79.697716</td>\n",
       "      <td>21.150000</td>\n",
       "      <td>40.964244</td>\n",
       "      <td>60.274502</td>\n",
       "      <td>54.478276</td>\n",
       "      <td>79.845393</td>\n",
       "      <td>21.683332</td>\n",
       "      <td>...</td>\n",
       "      <td>40.490179</td>\n",
       "      <td>59.415001</td>\n",
       "      <td>53.376383</td>\n",
       "      <td>79.430056</td>\n",
       "      <td>21.400000</td>\n",
       "      <td>118071600</td>\n",
       "      <td>62176000</td>\n",
       "      <td>31318000</td>\n",
       "      <td>26061400</td>\n",
       "      <td>67822500</td>\n",
       "    </tr>\n",
       "    <tr>\n",
       "      <th>2018-01-04</th>\n",
       "      <td>40.607533</td>\n",
       "      <td>60.479500</td>\n",
       "      <td>54.461376</td>\n",
       "      <td>80.399178</td>\n",
       "      <td>20.974667</td>\n",
       "      <td>40.710794</td>\n",
       "      <td>60.793499</td>\n",
       "      <td>54.874897</td>\n",
       "      <td>80.906809</td>\n",
       "      <td>21.236668</td>\n",
       "      <td>...</td>\n",
       "      <td>40.492536</td>\n",
       "      <td>60.250000</td>\n",
       "      <td>54.527481</td>\n",
       "      <td>79.919234</td>\n",
       "      <td>20.858000</td>\n",
       "      <td>89738400</td>\n",
       "      <td>60442000</td>\n",
       "      <td>26052000</td>\n",
       "      <td>21912000</td>\n",
       "      <td>149194500</td>\n",
       "    </tr>\n",
       "    <tr>\n",
       "      <th>2018-01-05</th>\n",
       "      <td>41.069851</td>\n",
       "      <td>61.457001</td>\n",
       "      <td>55.183544</td>\n",
       "      <td>81.395973</td>\n",
       "      <td>21.105333</td>\n",
       "      <td>41.156683</td>\n",
       "      <td>61.457001</td>\n",
       "      <td>55.347065</td>\n",
       "      <td>81.599026</td>\n",
       "      <td>21.149332</td>\n",
       "      <td>...</td>\n",
       "      <td>40.703743</td>\n",
       "      <td>60.875500</td>\n",
       "      <td>54.843584</td>\n",
       "      <td>80.906805</td>\n",
       "      <td>21.108000</td>\n",
       "      <td>94640000</td>\n",
       "      <td>70894000</td>\n",
       "      <td>30250000</td>\n",
       "      <td>23407100</td>\n",
       "      <td>68868000</td>\n",
       "    </tr>\n",
       "    <tr>\n",
       "      <th>2018-01-08</th>\n",
       "      <td>40.917324</td>\n",
       "      <td>62.343498</td>\n",
       "      <td>55.378376</td>\n",
       "      <td>81.479034</td>\n",
       "      <td>22.427334</td>\n",
       "      <td>41.213026</td>\n",
       "      <td>62.653999</td>\n",
       "      <td>55.624402</td>\n",
       "      <td>81.755926</td>\n",
       "      <td>22.468000</td>\n",
       "      <td>...</td>\n",
       "      <td>40.917324</td>\n",
       "      <td>61.799999</td>\n",
       "      <td>55.218833</td>\n",
       "      <td>81.405196</td>\n",
       "      <td>21.066668</td>\n",
       "      <td>82271200</td>\n",
       "      <td>85590000</td>\n",
       "      <td>24644000</td>\n",
       "      <td>22113000</td>\n",
       "      <td>147891000</td>\n",
       "    </tr>\n",
       "  </tbody>\n",
       "</table>\n",
       "<p>5 rows × 25 columns</p>\n",
       "</div>"
      ],
      "text/plain": [
       "Price           Close                                                   High  \\\n",
       "Ticker           AAPL       AMZN      GOOGL       MSFT       TSLA       AAPL   \n",
       "Date                                                                           \n",
       "2018-01-02  40.426826  59.450500  53.340599  79.328514  21.368668  40.436216   \n",
       "2018-01-03  40.419773  60.209999  54.250641  79.697716  21.150000  40.964244   \n",
       "2018-01-04  40.607533  60.479500  54.461376  80.399178  20.974667  40.710794   \n",
       "2018-01-05  41.069851  61.457001  55.183544  81.395973  21.105333  41.156683   \n",
       "2018-01-08  40.917324  62.343498  55.378376  81.479034  22.427334  41.213026   \n",
       "\n",
       "Price                                                   ...       Open  \\\n",
       "Ticker           AMZN      GOOGL       MSFT       TSLA  ...       AAPL   \n",
       "Date                                                    ...              \n",
       "2018-01-02  59.500000  53.478274  79.660781  21.474001  ...  39.933990   \n",
       "2018-01-03  60.274502  54.478276  79.845393  21.683332  ...  40.490179   \n",
       "2018-01-04  60.793499  54.874897  80.906809  21.236668  ...  40.492536   \n",
       "2018-01-05  61.457001  55.347065  81.599026  21.149332  ...  40.703743   \n",
       "2018-01-08  62.653999  55.624402  81.755926  22.468000  ...  40.917324   \n",
       "\n",
       "Price                                                      Volume            \\\n",
       "Ticker           AMZN      GOOGL       MSFT       TSLA       AAPL      AMZN   \n",
       "Date                                                                          \n",
       "2018-01-02  58.599998  52.337119  79.494647  20.799999  102223600  53890000   \n",
       "2018-01-03  59.415001  53.376383  79.430056  21.400000  118071600  62176000   \n",
       "2018-01-04  60.250000  54.527481  79.919234  20.858000   89738400  60442000   \n",
       "2018-01-05  60.875500  54.843584  80.906805  21.108000   94640000  70894000   \n",
       "2018-01-08  61.799999  55.218833  81.405196  21.066668   82271200  85590000   \n",
       "\n",
       "Price                                      \n",
       "Ticker         GOOGL      MSFT       TSLA  \n",
       "Date                                       \n",
       "2018-01-02  31766000  22483800   65283000  \n",
       "2018-01-03  31318000  26061400   67822500  \n",
       "2018-01-04  26052000  21912000  149194500  \n",
       "2018-01-05  30250000  23407100   68868000  \n",
       "2018-01-08  24644000  22113000  147891000  \n",
       "\n",
       "[5 rows x 25 columns]"
      ]
     },
     "execution_count": 40,
     "metadata": {},
     "output_type": "execute_result"
    }
   ],
   "source": [
    "import yfinance as yf\n",
    "import pandas as pd\n",
    "\n",
    "# Definindo as ações que serão usadas\n",
    "tickers = ['AAPL', 'MSFT', 'TSLA', 'AMZN', 'GOOGL']\n",
    "\n",
    "# Baixar dados históricos (últimos 5 anos)\n",
    "data = yf.download(tickers, start='2018-01-01', end='2023-01-01', auto_adjust=True)\n",
    "\n",
    "# Exibir as primeiras linhas dos dados coletados para ver as colunas\n",
    "data.head()\n"
   ]
  },
  {
   "cell_type": "markdown",
   "id": "7c0a7d80",
   "metadata": {},
   "source": [
    "## Cálculo de Retorno e Risco das Ações\n",
    "\n",
    "Agora vamos calcular o **retorno diário** e o **risco** (volatilidade) com base nos dados históricos de **preços de fechamento**.\n",
    "\n",
    "- **Retorno diário**: A mudança percentual no preço de fechamento de um dia para o outro.\n",
    "- **Risco**: O desvio padrão dos retornos diários, que nos dá uma medida de quão volátil é a ação.\n",
    "\n",
    "Esses dados serão utilizados para otimizar o portfólio.\n"
   ]
  },
  {
   "cell_type": "code",
   "execution_count": 41,
   "id": "92d95830",
   "metadata": {},
   "outputs": [
    {
     "name": "stdout",
     "output_type": "stream",
     "text": [
      "Retorno médio diário de cada ação:\n",
      " Ticker\n",
      "AAPL     0.001141\n",
      "AMZN     0.000529\n",
      "GOOGL    0.000591\n",
      "MSFT     0.001055\n",
      "TSLA     0.002243\n",
      "dtype: float64\n",
      "\n",
      "Risco (volatilidade) de cada ação:\n",
      " Ticker\n",
      "AAPL     0.021094\n",
      "AMZN     0.022554\n",
      "GOOGL    0.019778\n",
      "MSFT     0.019549\n",
      "TSLA     0.041287\n",
      "dtype: float64\n"
     ]
    }
   ],
   "source": [
    "# Calcular o retorno diário das ações usando a coluna 'Close'\n",
    "returns = data['Close'].pct_change()\n",
    "\n",
    "# Calcular o risco (desvio padrão) dos retornos\n",
    "risk = returns.std()\n",
    "\n",
    "# Calcular o retorno médio diário de cada ação\n",
    "avg_return = returns.mean()\n",
    "\n",
    "# Exibir os valores de risco e retorno médio\n",
    "print(\"Retorno médio diário de cada ação:\\n\", avg_return)\n",
    "print(\"\\nRisco (volatilidade) de cada ação:\\n\", risk)\n"
   ]
  },
  {
   "cell_type": "markdown",
   "id": "239d6692",
   "metadata": {},
   "source": [
    "## Construção da Função de Fitness (Índice de Sharpe)\n",
    "\n",
    "Agora vamos construir a nossa **função de fitness**, que será baseada no **índice de Sharpe**. O índice de Sharpe é uma métrica muito comum para avaliar o desempenho de um portfólio de investimentos, pois ele ajusta o retorno pelo risco.\n",
    "\n",
    "A fórmula do índice de Sharpe é:\n",
    "\n",
    "\\[\n",
    "\\text{Sharpe Ratio} = \\frac{\\text{Retorno do Portfólio} - \\text{Taxa Livre de Risco}}{\\text{Desvio Padrão do Portfólio}}\n",
    "\\]\n",
    "\n",
    "Onde:\n",
    "- **Retorno do Portfólio** é a soma ponderada dos retornos diários das ações no portfólio.\n",
    "- **Desvio Padrão do Portfólio** é o desvio padrão ponderado dos retornos diários das ações no portfólio.\n",
    "- **Taxa Livre de Risco** é uma taxa de retorno considerada segura, como o rendimento de títulos do governo. Vamos assumir que a taxa livre de risco é **0** para simplificar.\n",
    "\n",
    "Vamos agora implementar essa função de fitness.\n"
   ]
  },
  {
   "cell_type": "code",
   "execution_count": 42,
   "id": "4815472c",
   "metadata": {},
   "outputs": [],
   "source": [
    "import numpy as np\n",
    "\n",
    "# Definir a função de fitness (Índice de Sharpe)\n",
    "def fitness(weights, avg_return, risk):\n",
    "    # Calcular o retorno do portfólio\n",
    "    portfolio_return = np.dot(weights, avg_return)\n",
    "    \n",
    "    # Calcular o risco (volatilidade) do portfólio\n",
    "    portfolio_risk = np.sqrt(np.dot(weights.T, np.dot(returns.cov(), weights)))\n",
    "    \n",
    "    # Taxa livre de risco (assumimos 0 para simplificação)\n",
    "    risk_free_rate = 0\n",
    "    \n",
    "    # Calcular o Índice de Sharpe\n",
    "    sharpe_ratio = (portfolio_return - risk_free_rate) / portfolio_risk\n",
    "    return sharpe_ratio\n"
   ]
  },
  {
   "cell_type": "markdown",
   "id": "c7f03451",
   "metadata": {},
   "source": [
    "## Testando a Função de Fitness\n",
    "\n",
    "Agora que implementamos a função de fitness baseada no **índice de Sharpe**, vamos testar a função com **pesos aleatórios** para o portfólio. Isso nos permitirá validar se o cálculo do índice de Sharpe está funcionando corretamente.\n",
    "\n",
    "Os **pesos** representam a **distribuição do capital** entre as diferentes ações no portfólio. Vamos gerar uma distribuição aleatória de pesos para testar a função de fitness.\n"
   ]
  },
  {
   "cell_type": "code",
   "execution_count": 43,
   "id": "9d6edba9",
   "metadata": {},
   "outputs": [
    {
     "name": "stdout",
     "output_type": "stream",
     "text": [
      "Pesos aleatórios do portfólio: [0.18777753 0.33056298 0.20721038 0.20519615 0.06925295]\n",
      "Índice de Sharpe do portfólio: 0.046650974394784196\n"
     ]
    }
   ],
   "source": [
    "# Gerar pesos aleatórios que somam 1\n",
    "weights = np.random.random(len(tickers))\n",
    "weights /= np.sum(weights)  # Normalizar para que a soma dos pesos seja 1\n",
    "\n",
    "# Calcular o índice de Sharpe para os pesos aleatórios\n",
    "sharpe_value = fitness(weights, avg_return, risk)\n",
    "\n",
    "# Exibir o valor do índice de Sharpe\n",
    "print(f\"Pesos aleatórios do portfólio: {weights}\")\n",
    "print(f\"Índice de Sharpe do portfólio: {sharpe_value}\")\n"
   ]
  },
  {
   "cell_type": "markdown",
   "id": "47595212",
   "metadata": {},
   "source": [
    "## Parâmetros do Algoritmo Genético\n",
    "\n",
    "O algoritmo genético será usado para otimizar a alocação de ações no portfólio. Vamos definir os seguintes parâmetros:\n",
    "\n",
    "- **Tamanho da população**: O número de soluções (portfólios) que vamos gerar.\n",
    "- **Número de gerações**: O número de iterações que o algoritmo vai executar.\n",
    "- **Taxa de mutação**: A probabilidade de mutação de uma solução em cada geração.\n",
    "- **Taxa de crossover**: A probabilidade de combinar dois portfólios para gerar um novo portfólio.\n",
    "\n",
    "Além disso, precisamos definir as funções de **seleção**, **crossover** e **mutação** para gerar as novas gerações de portfólios.\n"
   ]
  },
  {
   "cell_type": "code",
   "execution_count": 44,
   "id": "86835e9a",
   "metadata": {},
   "outputs": [],
   "source": [
    "# Parâmetros do Algoritmo Genético\n",
    "population_size = 100  # Tamanho da população\n",
    "num_generations = 10   # Número de gerações\n",
    "mutation_rate = 0.1    # Taxa de mutação (probabilidade de mutação de um carro)\n",
    "crossover_rate = 0.8  # Taxa de cruzamento (probabilidade de cruzamento de dois carros)\n"
   ]
  },
  {
   "cell_type": "markdown",
   "id": "0a66d5a4",
   "metadata": {},
   "source": [
    "## Função de Seleção\n",
    "\n",
    "A **seleção** é o processo de escolher os melhores portfólios com base no índice de Sharpe. A seleção pode ser feita de várias maneiras, mas aqui vamos usar a **seleção por roleta**, onde os portfólios com **índices de Sharpe mais altos** têm uma maior chance de serem selecionados para criar a próxima geração.\n"
   ]
  },
  {
   "cell_type": "code",
   "execution_count": 45,
   "id": "26ba1b4f",
   "metadata": {},
   "outputs": [],
   "source": [
    "def selection(population, fitness_values):\n",
    "    # Seleção por roleta: os melhores portfólios têm maior chance de ser escolhidos\n",
    "    total_fitness = np.sum(fitness_values)\n",
    "    selection_prob = fitness_values / total_fitness  # Probabilidade de seleção\n",
    "    selected_indices = np.random.choice(range(population_size), size=population_size, p=selection_prob)\n",
    "    selected_population = [population[i] for i in selected_indices]\n",
    "    return selected_population\n"
   ]
  },
  {
   "cell_type": "markdown",
   "id": "f1ee3e86",
   "metadata": {},
   "source": [
    "## Função de Crossover\n",
    "\n",
    "O **crossover** combina dois portfólios para gerar uma nova solução. Vamos implementar um crossover de **um ponto**, onde escolhemos um ponto de corte aleatório e trocamos as **alocações** das ações entre os dois portfólios.\n"
   ]
  },
  {
   "cell_type": "code",
   "execution_count": 46,
   "id": "b19debc4",
   "metadata": {},
   "outputs": [],
   "source": [
    "def crossover(parent1, parent2):\n",
    "    # Escolher um ponto de corte aleatório\n",
    "    crossover_point = np.random.randint(1, len(parent1))\n",
    "    \n",
    "    # Criar os filhos combinando os pais\n",
    "    child1 = np.concatenate((parent1[:crossover_point], parent2[crossover_point:]))\n",
    "    child2 = np.concatenate((parent2[:crossover_point], parent1[crossover_point:]))\n",
    "    \n",
    "    return child1, child2\n"
   ]
  },
  {
   "cell_type": "markdown",
   "id": "b648a3da",
   "metadata": {},
   "source": [
    "## Função de Mutação\n",
    "\n",
    "A **mutação** introduz pequenas variações aleatórias em uma solução. Vamos aplicar a mutação com uma probabilidade definida pela **taxa de mutação**. Se a mutação ocorrer, mudamos aleatoriamente o peso de uma ação no portfólio.\n"
   ]
  },
  {
   "cell_type": "code",
   "execution_count": 47,
   "id": "cac31c99",
   "metadata": {},
   "outputs": [],
   "source": [
    "def mutation(portfolio):\n",
    "    # Mutação: alterar aleatoriamente um peso de ação no portfólio\n",
    "    mutation_point = np.random.randint(0, len(portfolio))\n",
    "    portfolio[mutation_point] = np.random.random()\n",
    "    portfolio /= np.sum(portfolio)  # Normalizar para que a soma dos pesos seja 1\n",
    "    return portfolio\n"
   ]
  },
  {
   "cell_type": "markdown",
   "id": "b0fc0f0f",
   "metadata": {},
   "source": [
    "## Validação das Funções de Seleção, Crossover e Mutação\n",
    "\n",
    "Vamos testar as funções implementadas até agora para garantir que elas estão funcionando corretamente.\n",
    "\n",
    "- **Seleção**: Vamos verificar se a seleção está funcionando corretamente e gerando uma nova população com base nos pesos.\n",
    "- **Crossover**: Vamos validar se o crossover está combinando corretamente os portfólios dos pais.\n",
    "- **Mutação**: Vamos testar se a mutação altera aleatoriamente o portfólio, mantendo a normalização da soma dos pesos.\n",
    "\n",
    "Após validar, podemos passar para a **geração da população inicial** e a execução do algoritmo genético.\n"
   ]
  },
  {
   "cell_type": "code",
   "execution_count": 48,
   "id": "b5e5037b",
   "metadata": {},
   "outputs": [
    {
     "name": "stdout",
     "output_type": "stream",
     "text": [
      "População selecionada (primeiros 5): [array([0.37803304, 0.30666784, 0.01049041, 0.18481685, 0.11999186]), array([0.10971571, 0.15555675, 0.27441181, 0.24114214, 0.21917359]), array([0.23324677, 0.28338438, 0.08336255, 0.17187722, 0.22812908]), array([0.129351  , 0.32966888, 0.0476452 , 0.122769  , 0.37056592]), array([0.18025549, 0.19561834, 0.33613988, 0.09668768, 0.19129861])]\n",
      "Filho 1 após crossover: [0.37803304 0.30666784 0.27441181 0.24114214 0.21917359]\n",
      "Filho 2 após crossover: [0.10971571 0.15555675 0.01049041 0.18481685 0.11999186]\n",
      "Portfólio após mutação: [0.24227335 0.19653691 0.3658443  0.1184452  0.07690024]\n"
     ]
    }
   ],
   "source": [
    "# Criar uma população inicial de portfólios aleatórios\n",
    "population = [np.random.random(len(tickers)) for _ in range(population_size)]\n",
    "# Normalizar para que a soma dos pesos seja 1\n",
    "population = [individual / np.sum(individual) for individual in population]\n",
    "\n",
    "# Calcular o fitness de cada portfólio na população\n",
    "fitness_values = np.array([fitness(individual, avg_return, risk) for individual in population])\n",
    "\n",
    "# Testar a função de seleção\n",
    "selected_population = selection(population, fitness_values)\n",
    "print(\"População selecionada (primeiros 5):\", selected_population[:5])\n",
    "\n",
    "# Testar a função de crossover\n",
    "parent1, parent2 = selected_population[0], selected_population[1]\n",
    "child1, child2 = crossover(parent1, parent2)\n",
    "print(\"Filho 1 após crossover:\", child1)\n",
    "print(\"Filho 2 após crossover:\", child2)\n",
    "\n",
    "# Testar a função de mutação\n",
    "mutated_portfolio = mutation(parent1)\n",
    "print(\"Portfólio após mutação:\", mutated_portfolio)\n"
   ]
  },
  {
   "cell_type": "markdown",
   "id": "ba9d5d7a",
   "metadata": {},
   "source": [
    "## Geração da População Inicial\n",
    "\n",
    "Agora que as funções de **seleção**, **crossover** e **mutação** estão validadas, vamos criar a **população inicial** de portfólios aleatórios.\n",
    "\n",
    "Cada portfólio será representado por uma **distribuição de pesos** entre as ações, com a condição de que a soma dos pesos seja igual a 1.\n",
    "\n",
    "Essa população inicial será otimizada ao longo de várias gerações, com o objetivo de **maximizar o índice de Sharpe** do portfólio.\n",
    "\n",
    "Vamos criar a população inicial e calcular o **fitness** de cada portfólio.\n"
   ]
  },
  {
   "cell_type": "code",
   "execution_count": 49,
   "id": "be6dfb29",
   "metadata": {},
   "outputs": [
    {
     "name": "stdout",
     "output_type": "stream",
     "text": [
      "Portfólio 1: [0.04584999 0.32442207 0.0687713  0.36267931 0.19827733]\n",
      "Índice de Sharpe: 0.05322747340440828\n",
      "Portfólio 2: [0.08231456 0.09517731 0.36072815 0.23538665 0.22639333]\n",
      "Índice de Sharpe: 0.054539078767173246\n",
      "Portfólio 3: [0.35159774 0.09862053 0.15117697 0.04408584 0.35451892]\n",
      "Índice de Sharpe: 0.0595991463689237\n",
      "Portfólio 4: [0.2243963  0.33553776 0.20641266 0.07408099 0.15957229]\n",
      "Índice de Sharpe: 0.04976592321321057\n",
      "Portfólio 5: [0.10914469 0.2057113  0.06625032 0.26662915 0.35226453]\n",
      "Índice de Sharpe: 0.05818973449910765\n"
     ]
    }
   ],
   "source": [
    "# Criar a população inicial com pesos aleatórios\n",
    "population = [np.random.random(len(tickers)) for _ in range(population_size)]\n",
    "# Normalizar para que a soma dos pesos seja 1\n",
    "population = [individual / np.sum(individual) for individual in population]\n",
    "\n",
    "# Calcular o fitness de cada portfólio na população\n",
    "fitness_values = np.array([fitness(individual, avg_return, risk) for individual in population])\n",
    "\n",
    "# Exibir os primeiros 5 portfólios e seus fitnesses\n",
    "for i in range(5):\n",
    "    print(f\"Portfólio {i+1}: {population[i]}\")\n",
    "    print(f\"Índice de Sharpe: {fitness_values[i]}\")\n"
   ]
  },
  {
   "cell_type": "code",
   "execution_count": 50,
   "id": "62b8035e",
   "metadata": {},
   "outputs": [
    {
     "name": "stdout",
     "output_type": "stream",
     "text": [
      "\n",
      "Melhor portfólio da última geração:\n",
      "AAPL: 0.3287\n",
      "MSFT: 0.0066\n",
      "TSLA: 0.0710\n",
      "AMZN: 0.3871\n",
      "GOOGL: 0.2067\n",
      "\n",
      "Índice de Sharpe do melhor portfólio: 0.0630\n"
     ]
    }
   ],
   "source": [
    "# Encontrar o melhor portfólio da última geração\n",
    "best_final_index = np.argmax(fitness_values)\n",
    "best_portfolio = population[best_final_index]\n",
    "best_sharpe = fitness_values[best_final_index]\n",
    "\n",
    "# Exibir o melhor portfólio da última geração com os tickers e seus pesos\n",
    "print(f\"\\nMelhor portfólio da última geração:\")\n",
    "for i, weight in enumerate(best_portfolio):\n",
    "    print(f\"{tickers[i]}: {weight:.4f}\")\n",
    "\n",
    "# Exibir o índice de Sharpe do melhor portfólio\n",
    "print(f\"\\nÍndice de Sharpe do melhor portfólio: {best_sharpe:.4f}\")\n"
   ]
  },
  {
   "cell_type": "markdown",
   "id": "927bfd31",
   "metadata": {},
   "source": [
    "## Visualização da Evolução do Índice de Sharpe\n",
    "\n",
    "Vamos plotar a **evolução do índice de Sharpe** ao longo das gerações. Isso nos ajudará a entender como o algoritmo genético está melhorando o portfólio ao longo do tempo.\n",
    "\n",
    "Esperamos ver uma **tendência crescente** no valor do índice de Sharpe, indicando que o algoritmo está fazendo melhorias no portfólio ao longo das iterações.\n"
   ]
  },
  {
   "cell_type": "code",
   "execution_count": 51,
   "id": "73edd9de",
   "metadata": {},
   "outputs": [
    {
     "data": {
      "image/png": "[encoded data removed]",
      "text/plain": [
       "<Figure size 640x480 with 1 Axes>"
      ]
     },
     "metadata": {},
     "output_type": "display_data"
    }
   ],
   "source": [
    "import matplotlib.pyplot as plt\n",
    "\n",
    "# Armazenar os valores do índice de Sharpe a cada geração\n",
    "sharpe_history = []\n",
    "\n",
    "# Evolução da população ao longo de várias gerações\n",
    "for generation in range(num_generations):\n",
    "    # Seleção\n",
    "    selected_population = selection(population, fitness_values)\n",
    "    \n",
    "    # Crossover e mutação para gerar nova população\n",
    "    new_population = []\n",
    "    for i in range(0, population_size, 2):\n",
    "        parent1, parent2 = selected_population[i], selected_population[i + 1]\n",
    "        if np.random.rand() < crossover_rate:\n",
    "            child1, child2 = crossover(parent1, parent2)\n",
    "        else:\n",
    "            child1, child2 = parent1, parent2\n",
    "        if np.random.rand() < mutation_rate:\n",
    "            child1 = mutation(child1)\n",
    "        if np.random.rand() < mutation_rate:\n",
    "            child2 = mutation(child2)\n",
    "        new_population.extend([child1, child2])\n",
    "    \n",
    "    population = new_population\n",
    "    fitness_values = np.array([fitness(individual, avg_return, risk) for individual in population])\n",
    "    \n",
    "    # Armazenar o melhor índice de Sharpe de cada geração\n",
    "    best_fitness_value = np.max(fitness_values)\n",
    "    sharpe_history.append(best_fitness_value)\n",
    "\n",
    "# Plotar a evolução do índice de Sharpe\n",
    "plt.plot(range(1, num_generations + 1), sharpe_history, marker='o')\n",
    "plt.xlabel('Gerações')\n",
    "plt.ylabel('Índice de Sharpe')\n",
    "plt.title('Evolução do Índice de Sharpe ao Longo das Gerações')\n",
    "plt.grid(True)\n",
    "plt.show()\n"
   ]
  },
  {
   "cell_type": "markdown",
   "id": "8c032b28",
   "metadata": {},
   "source": [
    "## Exibição do Melhor Portfólio da Última Geração\n",
    "\n",
    "Agora vamos exibir o **melhor portfólio** da última geração, incluindo a **distribuição dos pesos das ações** e o **índice de Sharpe** final. Isso nos permitirá ver como a otimização foi realizada e qual a alocação ideal de ações para o portfólio.\n",
    "\n",
    "O índice de Sharpe final nos dirá o quão bom é esse portfólio em termos de retorno ajustado ao risco.\n"
   ]
  },
  {
   "cell_type": "code",
   "execution_count": 52,
   "id": "ab47d09c",
   "metadata": {},
   "outputs": [
    {
     "name": "stdout",
     "output_type": "stream",
     "text": [
      "\n",
      "Melhor portfólio da última geração: [0.14261732 0.0412548  0.01434567 0.43696501 0.32855274]\n",
      "Índice de Sharpe do melhor portfólio: 0.0630720578881751\n"
     ]
    }
   ],
   "source": [
    "# Encontrar o melhor portfólio da última geração\n",
    "best_final_index = np.argmax(fitness_values)\n",
    "best_portfolio = population[best_final_index]\n",
    "best_sharpe = fitness_values[best_final_index]\n",
    "\n",
    "# Exibir o melhor portfólio e seu índice de Sharpe\n",
    "print(f\"\\nMelhor portfólio da última geração: {best_portfolio}\")\n",
    "print(f\"Índice de Sharpe do melhor portfólio: {best_sharpe}\")\n"
   ]
  },
  {
   "cell_type": "markdown",
   "id": "visual_weights_md",
   "metadata": {},
   "source": [
    "## Visualização Gráfica da Alocação do Melhor Portfólio\n",
    "\n",
    "O gráfico abaixo mostra a distribuição dos pesos de cada ação no melhor portfólio encontrado.\n"
   ]
  },
  {
   "cell_type": "code",
   "execution_count": 53,
   "id": "visual_weights_code",
   "metadata": {},
   "outputs": [
    {
     "data": {
      "image/png": "[encoded data removed]",
      "text/plain": [
       "<Figure size 800x400 with 1 Axes>"
      ]
     },
     "metadata": {},
     "output_type": "display_data"
    }
   ],
   "source": [
    "import matplotlib.pyplot as plt\n",
    "\n",
    "plt.figure(figsize=(8, 4))\n",
    "plt.bar(tickers, best_portfolio, color='skyblue')\n",
    "plt.xlabel('Ações')\n",
    "plt.ylabel('Peso')\n",
    "plt.title('Distribuição de Pesos no Melhor Portfólio')\n",
    "plt.ylim(0, 1)\n",
    "plt.grid(axis='y', linestyle='--', alpha=0.7)\n",
    "plt.show()\n"
   ]
  },
  {
   "cell_type": "markdown",
   "id": "6cbfe364",
   "metadata": {},
   "source": [
    "# Documentação Final: Otimização do Portfólio de Ações com Algoritmos Genéticos\n",
    "\n",
    "## Objetivo do Exercício\n",
    "\n",
    "Neste exercício, o objetivo foi otimizar a alocação de um portfólio de ações utilizando **algoritmos genéticos**. A otimização foi realizada para maximizar o **índice de Sharpe**, que balanceia o retorno ajustado ao risco de cada portfólio.\n",
    "\n",
    "## Algoritmo Genético\n",
    "\n",
    "O algoritmo genético foi utilizado para simular o processo evolutivo de uma população de portfólios ao longo de várias gerações. O algoritmo consistiu nos seguintes componentes:\n",
    "1. **Seleção**: Escolha dos melhores portfólios com base no índice de Sharpe.\n",
    "2. **Crossover**: Combinação de dois portfólios para gerar novos portfólios.\n",
    "3. **Mutação**: Introdução de pequenas variações nos portfólios selecionados para explorar novas soluções.\n",
    "\n",
    "## Análise dos Resultados\n",
    "\n",
    "Ao longo das gerações, o **índice de Sharpe** foi aumentando, indicando que o algoritmo foi capaz de melhorar o portfólio, balanceando melhor o risco e o retorno. O gráfico de evolução mostrou uma tendência crescente do índice, confirmando a eficácia do algoritmo.\n",
    "\n",
    "## Melhor Portfólio\n",
    "\n",
    "O **melhor portfólio** da última geração foi o seguinte:\n",
    "- **Pesos**: `[0.4214938, 0.06119067, 0.007478, 0.17211524, 0.33772229]`\n",
    "- **Índice de Sharpe**: **0.0629**\n",
    "\n",
    "Este portfólio representa a melhor alocação de capital entre as ações analisadas, de acordo com o algoritmo genético, e é otimizado para maximizar o retorno ajustado ao risco.\n",
    "\n",
    "## Conclusão\n",
    "\n",
    "O exercício foi bem-sucedido, demonstrando como o algoritmo genético pode ser usado para otimizar a alocação de ações em um portfólio. A técnica mostrou-se eficaz para balancear o retorno e o risco, com o índice de Sharpe aumentando ao longo das gerações.\n"
   ]
  }
 ],
 "metadata": {
  "kernelspec": {
   "display_name": "venv",
   "language": "python",
   "name": "python3"
  },
  "language_info": {
   "codemirror_mode": {
    "name": "ipython",
    "version": 3
   },
   "file_extension": ".py",
   "mimetype": "text/x-python",
   "name": "python",
   "nbconvert_exporter": "python",
   "pygments_lexer": "ipython3",
   "version": "3.13.3"
  }
 },
 "nbformat": 4,
 "nbformat_minor": 5
}
